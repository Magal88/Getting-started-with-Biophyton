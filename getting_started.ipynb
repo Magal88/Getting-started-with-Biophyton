{
 "cells": [
  {
   "cell_type": "markdown",
   "id": "8e201aa1-07b9-4590-a910-fbc08df2a825",
   "metadata": {},
   "source": [
    "Getting Started with Biopython. PART1."
   ]
  },
  {
   "cell_type": "code",
   "execution_count": 41,
   "id": "1273b596-44d9-42b7-93a5-4cd7d9dd22ca",
   "metadata": {},
   "outputs": [],
   "source": [
    "from Bio.Seq import Seq\n",
    "from Bio.SeqRecord import SeqRecord\n",
    "from Bio import SeqIO"
   ]
  },
  {
   "cell_type": "code",
   "execution_count": 43,
   "id": "7e9d4bc2-84a1-4702-a737-29a301385d53",
   "metadata": {},
   "outputs": [
    {
     "name": "stdout",
     "output_type": "stream",
     "text": [
      "ATCGATCGGGGG\n"
     ]
    }
   ],
   "source": [
    "my_sequence = Seq(\"ATCGATCGGGGG\")\n",
    "print(my_sequence)"
   ]
  },
  {
   "cell_type": "markdown",
   "id": "e3e5b5ff-46a0-4102-9952-076880b0c1a2",
   "metadata": {},
   "source": [
    "It is possible to access sequence elements just like string characters:"
   ]
  },
  {
   "cell_type": "code",
   "execution_count": 46,
   "id": "c7a37669-59ef-44ea-ae2d-810f1378af6c",
   "metadata": {},
   "outputs": [
    {
     "name": "stdout",
     "output_type": "stream",
     "text": [
      "A\n"
     ]
    }
   ],
   "source": [
    "print(my_sequence[0]) # It corresponds to the first letter of the sequence."
   ]
  },
  {
   "cell_type": "code",
   "execution_count": 48,
   "id": "a3156486-84f0-4b8e-a962-005685c83e70",
   "metadata": {},
   "outputs": [
    {
     "name": "stdout",
     "output_type": "stream",
     "text": [
      "T\n"
     ]
    }
   ],
   "source": [
    "print(my_sequence[1])  # It corresponds to the second letter of the sequence."
   ]
  },
  {
   "cell_type": "markdown",
   "id": "184ffc9a-021b-4689-9fee-0702d8936f21",
   "metadata": {},
   "source": [
    "Extracting a portion of the sequence:"
   ]
  },
  {
   "cell_type": "code",
   "execution_count": 51,
   "id": "ffb3fb46-51c4-4e31-bd19-2e13fef375c2",
   "metadata": {},
   "outputs": [
    {
     "data": {
      "text/plain": [
       "Seq('CGA')"
      ]
     },
     "execution_count": 51,
     "metadata": {},
     "output_type": "execute_result"
    }
   ],
   "source": [
    "my_sequence[2:5]   # returns the subsequence from index 2 to 4"
   ]
  },
  {
   "cell_type": "markdown",
   "id": "4db4fe09-3494-49bb-af0d-95ff0737e611",
   "metadata": {},
   "source": [
    "Using complement() returns the base-pair complement of the sequence. "
   ]
  },
  {
   "cell_type": "code",
   "execution_count": 54,
   "id": "3ed6887e-ed0e-49fe-8b46-20273dca9ba1",
   "metadata": {},
   "outputs": [
    {
     "data": {
      "text/plain": [
       "Seq('TAGCTAGCCCCC')"
      ]
     },
     "execution_count": 54,
     "metadata": {},
     "output_type": "execute_result"
    }
   ],
   "source": [
    "my_sequence.complement()"
   ]
  },
  {
   "cell_type": "code",
   "execution_count": null,
   "id": "8dd6c71f-c898-48a4-be77-3ed1b21f1d4e",
   "metadata": {},
   "outputs": [],
   "source": [
    "print(my_sequence.complement())"
   ]
  },
  {
   "cell_type": "markdown",
   "id": "47e434d4-9d01-482f-951b-0e42c5413b3d",
   "metadata": {},
   "source": [
    "Build a FASTA string with a specified sequence title"
   ]
  },
  {
   "cell_type": "code",
   "execution_count": 75,
   "id": "70d36b61-10bc-4b48-9771-c197735c0f75",
   "metadata": {},
   "outputs": [
    {
     "name": "stdout",
     "output_type": "stream",
     "text": [
      ">MySequence\n",
      "ATCGATCGGGGG\n",
      "\n"
     ]
    }
   ],
   "source": [
    "fasta_entry = \">MySequence\\n%s\\n\" % my_sequence\n",
    "print(fasta_entry)"
   ]
  },
  {
   "cell_type": "markdown",
   "id": "e1a10f6c-b7f0-4950-abd9-a0e9d9c17e04",
   "metadata": {},
   "source": [
    "Creates a DNA sequence record and saves it in GenBank format using Biopython:"
   ]
  },
  {
   "cell_type": "code",
   "execution_count": 69,
   "id": "aca187ef-781d-4408-bffa-b6fc5ce21a58",
   "metadata": {},
   "outputs": [],
   "source": [
    "record_1 = SeqRecord(\n",
    "    my_sequence,\n",
    "    id=\"005\",\n",
    "    description=\"Seq example\",\n",
    "    annotations={\"molecule_type\": \"DNA\"}  \n",
    ") # Wrap in a SeqRecord"
   ]
  },
  {
   "cell_type": "code",
   "execution_count": 73,
   "id": "c5cb28f8-ebb5-4dbf-b1fd-ec0628dd3d44",
   "metadata": {},
   "outputs": [],
   "source": [
    "write_result = SeqIO.write(record_1, \"my_sequence.gb\", \"genbank\")  #writes the sequence to a GenBank file"
   ]
  }
 ],
 "metadata": {
  "kernelspec": {
   "display_name": "Python 3 (ipykernel)",
   "language": "python",
   "name": "python3"
  },
  "language_info": {
   "codemirror_mode": {
    "name": "ipython",
    "version": 3
   },
   "file_extension": ".py",
   "mimetype": "text/x-python",
   "name": "python",
   "nbconvert_exporter": "python",
   "pygments_lexer": "ipython3",
   "version": "3.12.3"
  }
 },
 "nbformat": 4,
 "nbformat_minor": 5
}
